{
 "cells": [
  {
   "cell_type": "code",
   "execution_count": 2,
   "id": "179afe53-854d-4a34-af63-da4fe0c47c8c",
   "metadata": {},
   "outputs": [
    {
     "name": "stdout",
     "output_type": "stream",
     "text": [
      "\n",
      "--- Personal Expense Tracker Menu ---\n",
      "1. Add Expense\n",
      "2. View Expenses\n",
      "3. Track Budget\n",
      "4. Save Expenses\n",
      "5. Exit\n"
     ]
    },
    {
     "name": "stdin",
     "output_type": "stream",
     "text": [
      "Enter your choice (1-5):  1\n",
      "Enter the date (YYYY-MM-DD):  2024-05-03\n",
      "Enter the category:  Food\n",
      "Enter the amount:  400\n",
      "Enter a brief description:  Chinese\n"
     ]
    },
    {
     "name": "stdout",
     "output_type": "stream",
     "text": [
      "Expense added successfully!\n",
      "\n",
      "--- Personal Expense Tracker Menu ---\n",
      "1. Add Expense\n",
      "2. View Expenses\n",
      "3. Track Budget\n",
      "4. Save Expenses\n",
      "5. Exit\n"
     ]
    },
    {
     "name": "stdin",
     "output_type": "stream",
     "text": [
      "Enter your choice (1-5):  1\n",
      "Enter the date (YYYY-MM-DD):  2024-05-04\n",
      "Enter the category:  Shopping\n",
      "Enter the amount:  13000\n",
      "Enter a brief description:  New shoes\n"
     ]
    },
    {
     "name": "stdout",
     "output_type": "stream",
     "text": [
      "Expense added successfully!\n",
      "\n",
      "--- Personal Expense Tracker Menu ---\n",
      "1. Add Expense\n",
      "2. View Expenses\n",
      "3. Track Budget\n",
      "4. Save Expenses\n",
      "5. Exit\n"
     ]
    },
    {
     "name": "stdin",
     "output_type": "stream",
     "text": [
      "Enter your choice (1-5):  3\n",
      "Enter your monthly budget:  20000\n"
     ]
    },
    {
     "name": "stdout",
     "output_type": "stream",
     "text": [
      "You have $1900.00 left for the month.\n",
      "\n",
      "--- Personal Expense Tracker Menu ---\n",
      "1. Add Expense\n",
      "2. View Expenses\n",
      "3. Track Budget\n",
      "4. Save Expenses\n",
      "5. Exit\n"
     ]
    },
    {
     "name": "stdin",
     "output_type": "stream",
     "text": [
      "Enter your choice (1-5):  4\n"
     ]
    },
    {
     "name": "stdout",
     "output_type": "stream",
     "text": [
      "Expenses saved to expenses.csv.\n",
      "\n",
      "--- Personal Expense Tracker Menu ---\n",
      "1. Add Expense\n",
      "2. View Expenses\n",
      "3. Track Budget\n",
      "4. Save Expenses\n",
      "5. Exit\n"
     ]
    },
    {
     "name": "stdin",
     "output_type": "stream",
     "text": [
      "Enter your choice (1-5):  2\n"
     ]
    },
    {
     "name": "stdout",
     "output_type": "stream",
     "text": [
      "1. 2024-07-01 - Food - $200.00 - Noodles\n",
      "2. 2024-07-04 - Shopping - $4500.00 - New Jeans\n",
      "3. 2024-05-03 - Food - $400.00 - Chinese\n",
      "4. 2024-05-04 - Shopping - $13000.00 - New shoes\n",
      "\n",
      "--- Personal Expense Tracker Menu ---\n",
      "1. Add Expense\n",
      "2. View Expenses\n",
      "3. Track Budget\n",
      "4. Save Expenses\n",
      "5. Exit\n"
     ]
    },
    {
     "name": "stdin",
     "output_type": "stream",
     "text": [
      "Enter your choice (1-5):  4\n"
     ]
    },
    {
     "name": "stdout",
     "output_type": "stream",
     "text": [
      "Expenses saved to expenses.csv.\n",
      "\n",
      "--- Personal Expense Tracker Menu ---\n",
      "1. Add Expense\n",
      "2. View Expenses\n",
      "3. Track Budget\n",
      "4. Save Expenses\n",
      "5. Exit\n"
     ]
    },
    {
     "name": "stdin",
     "output_type": "stream",
     "text": [
      "Enter your choice (1-5):  5\n"
     ]
    },
    {
     "name": "stdout",
     "output_type": "stream",
     "text": [
      "Expenses saved to expenses.csv.\n",
      "Exiting program.\n"
     ]
    }
   ],
   "source": [
    "import csv\n",
    "from datetime import datetime\n",
    "\n",
    "# Global list to store expenses\n",
    "expenses = []\n",
    "\n",
    "# Load expenses from CSV file\n",
    "def load_expenses_from_file(filename=\"expenses.csv\"):\n",
    "    try:\n",
    "        with open(filename, mode='r') as file:\n",
    "            reader = csv.DictReader(file)\n",
    "            for row in reader:\n",
    "                # Validate and load only complete and correct rows\n",
    "                if validate_expense(row):\n",
    "                    row['amount'] = float(row['amount'])  # Convert amount to float\n",
    "                    expenses.append(row)\n",
    "                else:\n",
    "                    print(f\"Skipping incomplete or invalid row: {row}\")\n",
    "    except FileNotFoundError:\n",
    "        print(f\"No existing file found. Starting fresh!\")\n",
    "\n",
    "# Save expenses to CSV file\n",
    "def save_expenses_to_file(filename=\"expenses.csv\"):\n",
    "    with open(filename, mode='w', newline='') as file:\n",
    "        fieldnames = ['date', 'category', 'amount', 'description']\n",
    "        writer = csv.DictWriter(file, fieldnames=fieldnames)\n",
    "        writer.writeheader()\n",
    "        writer.writerows(expenses)\n",
    "    print(f\"Expenses saved to {filename}.\")\n",
    "\n",
    "# Validate expense data (ensure date format, non-empty fields, etc.)\n",
    "def validate_expense(expense):\n",
    "    try:\n",
    "        # Validate date format\n",
    "        datetime.strptime(expense['date'], \"%Y-%m-%d\")\n",
    "        # Ensure category, amount, and description are non-empty\n",
    "        if not expense['category'] or not expense['description']:\n",
    "            return False\n",
    "        if float(expense['amount']) < 0:\n",
    "            return False\n",
    "        return True\n",
    "    except (ValueError, KeyError):\n",
    "        return False\n",
    "\n",
    "# Add an expense\n",
    "def add_expense():\n",
    "    date = input(\"Enter the date (YYYY-MM-DD): \")\n",
    "    try:\n",
    "        # Validate the date format\n",
    "        datetime.strptime(date, \"%Y-%m-%d\")\n",
    "    except ValueError:\n",
    "        print(\"Invalid date format. Please use YYYY-MM-DD.\")\n",
    "        return\n",
    "\n",
    "    category = input(\"Enter the category: \")\n",
    "    try:\n",
    "        amount = float(input(\"Enter the amount: \"))\n",
    "    except ValueError:\n",
    "        print(\"Invalid amount. Please enter a numeric value.\")\n",
    "        return\n",
    "    description = input(\"Enter a brief description: \")\n",
    "\n",
    "    # Create an expense dictionary\n",
    "    expense = {\n",
    "        'date': date,\n",
    "        'category': category,\n",
    "        'amount': amount,\n",
    "        'description': description\n",
    "    }\n",
    "    \n",
    "    # Validate the new expense before adding it\n",
    "    if validate_expense(expense):\n",
    "        expenses.append(expense)\n",
    "        print(\"Expense added successfully!\")\n",
    "    else:\n",
    "        print(\"Failed to add expense due to invalid data.\")\n",
    "\n",
    "# View all expenses with validation\n",
    "def view_expenses():\n",
    "    if not expenses:\n",
    "        print(\"No expenses to show.\")\n",
    "        return\n",
    "\n",
    "    for i, expense in enumerate(expenses, start=1):\n",
    "        print(f\"{i}. {expense['date']} - {expense['category']} - ${expense['amount']:.2f} - {expense['description']}\")\n",
    "        \n",
    "# Set and track monthly budget\n",
    "def track_budget():\n",
    "    try:\n",
    "        budget = float(input(\"Enter your monthly budget: \"))\n",
    "    except ValueError:\n",
    "        print(\"Invalid budget. Please enter a numeric value.\")\n",
    "        return\n",
    "\n",
    "    total_expenses = sum(expense['amount'] for expense in expenses)\n",
    "    \n",
    "    if total_expenses > budget:\n",
    "        print(f\"You have exceeded your budget! Total expenses: ${total_expenses:.2f}\")\n",
    "    else:\n",
    "        remaining_budget = budget - total_expenses\n",
    "        print(f\"You have ${remaining_budget:.2f} left for the month.\")\n",
    "\n",
    "# Main interactive menu\n",
    "def display_menu():\n",
    "    while True:\n",
    "        print(\"\\n--- Personal Expense Tracker Menu ---\")\n",
    "        print(\"1. Add Expense\")\n",
    "        print(\"2. View Expenses\")\n",
    "        print(\"3. Track Budget\")\n",
    "        print(\"4. Save Expenses\")\n",
    "        print(\"5. Exit\")\n",
    "        \n",
    "        choice = input(\"Enter your choice (1-5): \")\n",
    "        \n",
    "        if choice == '1':\n",
    "            add_expense()\n",
    "        elif choice == '2':\n",
    "            view_expenses()\n",
    "        elif choice == '3':\n",
    "            track_budget()\n",
    "        elif choice == '4':\n",
    "            save_expenses_to_file()\n",
    "        elif choice == '5':\n",
    "            save_expenses_to_file()  # Automatically save on exit\n",
    "            print(\"Exiting program.\")\n",
    "            break\n",
    "        else:\n",
    "            print(\"Invalid choice. Please choose between 1-5.\")\n",
    "\n",
    "# Load expenses from file when program starts\n",
    "load_expenses_from_file()\n",
    "\n",
    "# Display the menu to start interaction\n",
    "display_menu()\n"
   ]
  }
 ],
 "metadata": {
  "kernelspec": {
   "display_name": "",
   "name": ""
  },
  "language_info": {
   "name": ""
  }
 },
 "nbformat": 4,
 "nbformat_minor": 5
}
